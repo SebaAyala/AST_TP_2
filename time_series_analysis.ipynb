{
 "cells": [
  {
   "cell_type": "markdown",
   "metadata": {},
   "source": [
    "# Time Series Analysis - TP 2\n",
    "## Análisis de Series Temporales 2025\n",
    "\n",
    "This notebook performs time series analysis on three different series."
   ]
  },
  {
   "cell_type": "markdown",
   "metadata": {},
   "source": [
    "## 1. Import Libraries"
   ]
  },
  {
   "cell_type": "code",
   "execution_count": null,
   "metadata": {},
   "outputs": [],
   "source": [
    "import numpy as np\n",
    "import pandas as pd\n",
    "import matplotlib.pyplot as plt\n",
    "import seaborn as sns\n",
    "from statsmodels.tsa.stattools import adfuller, acf, pacf\n",
    "from statsmodels.graphics.tsaplots import plot_acf, plot_pacf\n",
    "from scipy import stats\n",
    "\n",
    "# Import the TimeSeriesAnalysis class\n",
    "from time_series_analysis import TimeSeriesAnalysis\n",
    "\n",
    "# Set style for better visualizations\n",
    "sns.set_style(\"whitegrid\")\n",
    "plt.rcParams['figure.figsize'] = (12, 6)\n",
    "\n",
    "print(\"Libraries imported successfully!\")"
   ]
  },
  {
   "cell_type": "markdown",
   "metadata": {},
   "source": [
    "## 2. Initialize Analysis Object and Load/Generate Data"
   ]
  },
  {
   "cell_type": "code",
   "execution_count": null,
   "metadata": {},
   "outputs": [],
   "source": [
    "# Create TimeSeriesAnalysis object\n",
    "tsa = TimeSeriesAnalysis(series_names=['Serie 1', 'Serie 2', 'Serie 3'])\n",
    "\n",
    "# Generate sample data\n",
    "# You can replace this with: tsa.load_data('your_data.csv', column_names=['col1', 'col2', 'col3'])\n",
    "data = tsa.generate_sample_data(n_points=200)\n",
    "\n",
    "print(\"Data shape:\", data.shape)\n",
    "print(\"\\nFirst 5 rows:\")\n",
    "data.head()"
   ]
  },
  {
   "cell_type": "markdown",
   "metadata": {},
   "source": [
    "## 3. Descriptive Statistics"
   ]
  },
  {
   "cell_type": "code",
   "execution_count": null,
   "metadata": {},
   "outputs": [],
   "source": [
    "# Calculate and display descriptive statistics\n",
    "stats_df = tsa.descriptive_statistics()"
   ]
  },
  {
   "cell_type": "markdown",
   "metadata": {},
   "source": [
    "## 4. Visualize Time Series"
   ]
  },
  {
   "cell_type": "code",
   "execution_count": null,
   "metadata": {},
   "outputs": [],
   "source": [
    "# Plot all three time series\n",
    "tsa.plot_series()"
   ]
  },
  {
   "cell_type": "markdown",
   "metadata": {},
   "source": [
    "## 5. Stationarity Tests\n",
    "\n",
    "Perform Augmented Dickey-Fuller (ADF) test to check if the series are stationary.\n",
    "\n",
    "- **Null Hypothesis (H0)**: The series has a unit root (non-stationary)\n",
    "- **Alternative Hypothesis (H1)**: The series is stationary\n",
    "\n",
    "If p-value < 0.05, we reject H0 and conclude the series is stationary."
   ]
  },
  {
   "cell_type": "code",
   "execution_count": null,
   "metadata": {},
   "outputs": [],
   "source": [
    "# Perform stationarity tests\n",
    "stationarity_results = tsa.test_stationarity()"
   ]
  },
  {
   "cell_type": "markdown",
   "metadata": {},
   "source": [
    "## 6. Autocorrelation Analysis\n",
    "\n",
    "Analyze the autocorrelation (ACF) and partial autocorrelation (PACF) functions."
   ]
  },
  {
   "cell_type": "code",
   "execution_count": null,
   "metadata": {},
   "outputs": [],
   "source": [
    "# Plot ACF and PACF for all series\n",
    "tsa.plot_acf_pacf(lags=40)"
   ]
  },
  {
   "cell_type": "markdown",
   "metadata": {},
   "source": [
    "## 7. Distribution Analysis"
   ]
  },
  {
   "cell_type": "code",
   "execution_count": null,
   "metadata": {},
   "outputs": [],
   "source": [
    "# Plot histograms and Q-Q plots\n",
    "tsa.plot_distributions()"
   ]
  },
  {
   "cell_type": "markdown",
   "metadata": {},
   "source": [
    "## 8. Additional Analysis (Optional)\n",
    "\n",
    "You can add additional analyses here, such as:\n",
    "- Decomposition (trend, seasonality, residuals)\n",
    "- Differencing for non-stationary series\n",
    "- Model fitting (ARIMA, SARIMA, etc.)\n",
    "- Forecasting"
   ]
  },
  {
   "cell_type": "code",
   "execution_count": null,
   "metadata": {},
   "outputs": [],
   "source": [
    "# Example: First difference for non-stationary series\n",
    "for name in tsa.series_names:\n",
    "    series = tsa.series[name]\n",
    "    diff_series = series.diff().dropna()\n",
    "    \n",
    "    plt.figure(figsize=(12, 4))\n",
    "    plt.plot(diff_series)\n",
    "    plt.title(f'{name} - First Difference')\n",
    "    plt.xlabel('Time')\n",
    "    plt.ylabel('First Difference')\n",
    "    plt.grid(True, alpha=0.3)\n",
    "    plt.show()"
   ]
  },
  {
   "cell_type": "markdown",
   "metadata": {},
   "source": [
    "## 9. Save Results"
   ]
  },
  {
   "cell_type": "code",
   "execution_count": null,
   "metadata": {},
   "outputs": [],
   "source": [
    "# Save the time series data to CSV\n",
    "tsa.series.to_csv('time_series_data.csv', index=False)\n",
    "print(\"Data saved to 'time_series_data.csv'\")"
   ]
  },
  {
   "cell_type": "markdown",
   "metadata": {},
   "source": [
    "## Conclusions\n",
    "\n",
    "Based on the analysis above, summarize your findings:\n",
    "\n",
    "1. **Serie 1**: [Add your observations]\n",
    "2. **Serie 2**: [Add your observations]\n",
    "3. **Serie 3**: [Add your observations]"
   ]
  }
 ],
 "metadata": {
  "kernelspec": {
   "display_name": "Python 3",
   "language": "python",
   "name": "python3"
  },
  "language_info": {
   "codemirror_mode": {
    "name": "ipython",
    "version": 3
   },
   "file_extension": ".py",
   "mimetype": "text/x-python",
   "name": "python",
   "nbconvert_exporter": "python",
   "pygments_lexer": "ipython3",
   "version": "3.8.0"
  }
 },
 "nbformat": 4,
 "nbformat_minor": 4
}
