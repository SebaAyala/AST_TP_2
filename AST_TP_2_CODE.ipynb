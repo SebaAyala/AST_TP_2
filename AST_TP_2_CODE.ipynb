{
  "nbformat": 4,
  "nbformat_minor": 0,
  "metadata": {
    "colab": {
      "provenance": [],
      "mount_file_id": "1oPWTVYiyY_S_kT3JLkBsYMEMBwRbZNjG",
      "authorship_tag": "ABX9TyP1gJwlKz5q5fM9HTpAmbSc",
      "include_colab_link": true
    },
    "kernelspec": {
      "name": "python3",
      "display_name": "Python 3"
    },
    "language_info": {
      "name": "python"
    }
  },
  "cells": [
    {
      "cell_type": "markdown",
      "metadata": {
        "id": "view-in-github",
        "colab_type": "text"
      },
      "source": [
        "<a href=\"https://colab.research.google.com/github/SebaAyala/AST_TP_2/blob/main/AST_TP_2_CODE.ipynb\" target=\"_parent\"><img src=\"https://colab.research.google.com/assets/colab-badge.svg\" alt=\"Open In Colab\"/></a>"
      ]
    },
    {
      "cell_type": "markdown",
      "source": [
        "# Instalación de librerias"
      ],
      "metadata": {
        "id": "W4HPU_Q5T2ov"
      }
    },
    {
      "cell_type": "code",
      "execution_count": 2,
      "metadata": {
        "id": "hwlx4bApTRmc"
      },
      "outputs": [],
      "source": [
        "import pandas as pd\n",
        "import numpy as np\n",
        "import matplotlib.pyplot as plt\n",
        "import seaborn as sns\n",
        "\n",
        "import xgboost as xgb\n",
        "from sklearn.metrics import mean_squared_error\n",
        "from sklearn.model_selection import TimeSeriesSplit\n",
        "from xgboost import plot_importance, plot_tree\n",
        "color_pal = sns.color_palette()\n",
        "plt.style.use('tableau-colorblind10')\n",
        "\n",
        "from google.colab import drive\n",
        "from google.colab import auth\n",
        "from google.auth import default"
      ]
    },
    {
      "cell_type": "code",
      "source": [
        "creds, _ = default()\n",
        "drive.mount('/content/drive', force_remount=True)\n",
        "auth.authenticate_user()"
      ],
      "metadata": {
        "colab": {
          "base_uri": "https://localhost:8080/"
        },
        "id": "EwcjoZmJUIl4",
        "outputId": "033c2421-7d50-423b-8c0f-c8ca68fa2097"
      },
      "execution_count": 3,
      "outputs": [
        {
          "output_type": "stream",
          "name": "stdout",
          "text": [
            "Mounted at /content/drive\n"
          ]
        }
      ]
    },
    {
      "cell_type": "markdown",
      "source": [
        "## Carga de datasets"
      ],
      "metadata": {
        "id": "cCUzk28-T-cO"
      }
    },
    {
      "cell_type": "code",
      "source": [
        "# Ruta al archivo en tu Google Drive\n",
        "df_siniestros = pd.read_csv('/content/drive/My Drive/Colab Notebooks/AST - Series Temporales/TP_2/siniestros.csv', encoding='latin1', sep=';')\n",
        "df_precipitaciones = pd.read_excel('/content/drive/My Drive/Colab Notebooks/AST - Series Temporales/TP_2/precip.xlsx', skiprows=3)\n",
        "df_temperatura = pd.read_excel('/content/drive/My Drive/Colab Notebooks/AST - Series Temporales/TP_2/tempBA.xlsx', skiprows=2, date_parser=['Fecha'])"
      ],
      "metadata": {
        "colab": {
          "base_uri": "https://localhost:8080/"
        },
        "id": "lBhkf_GQT7-H",
        "outputId": "ac67fd46-613c-4402-cf56-9b4d84e5e432"
      },
      "execution_count": 9,
      "outputs": [
        {
          "output_type": "stream",
          "name": "stderr",
          "text": [
            "/tmp/ipython-input-633792332.py:2: DtypeWarning: Columns (13) have mixed types. Specify dtype option on import or set low_memory=False.\n",
            "  df_siniestros = pd.read_csv('/content/drive/My Drive/Colab Notebooks/AST - Series Temporales/TP_2/siniestros.csv', encoding='latin1', sep=';')\n",
            "/tmp/ipython-input-633792332.py:4: FutureWarning: The argument 'date_parser' is deprecated and will be removed in a future version. Please use 'date_format' instead, or read your data in as 'object' dtype and then call 'to_datetime'.\n",
            "  df_temperatura = pd.read_excel('/content/drive/My Drive/Colab Notebooks/AST - Series Temporales/TP_2/tempBA.xlsx', skiprows=2, date_parser=['Fecha'])\n"
          ]
        }
      ]
    },
    {
      "cell_type": "code",
      "source": [
        "print(df_siniestros.head())\n",
        "print(df_precipitaciones.head())\n",
        "print(df_temperatura.head())"
      ],
      "metadata": {
        "colab": {
          "base_uri": "https://localhost:8080/"
        },
        "id": "R9PagkTRV-am",
        "outputId": "d98786b6-d9a6-4686-a131-edada57861b2"
      },
      "execution_count": 10,
      "outputs": [
        {
          "output_type": "stream",
          "name": "stdout",
          "text": [
            "          id_hecho  n_victimas       fecha  aaaa  mm  dd      hora  hh  \\\n",
            "0  LC-2019-0008283           2  2019-01-04  2019   1   4  17:53:00  17   \n",
            "1  LC-2019-0007634           1  2019-01-04  2019   1   4  14:50:00  14   \n",
            "2  LC-2019-0008974           1  2019-01-05  2019   1   5  09:30:00   9   \n",
            "3  LC-2019-0010983           2  2019-01-06  2019   1   6  22:20:00  22   \n",
            "4  LC-2019-0011092           1  2019-01-07  2019   1   7  03:50:00   3   \n",
            "\n",
            "  direccion_normalizada calle  ... comuna tipo_de_calle geocodificacion_caba  \\\n",
            "0                    SD   NaN  ...     SD            SD                   SD   \n",
            "1                    SD   NaN  ...     SD            SD                   SD   \n",
            "2                    SD   NaN  ...     SD            SD                   SD   \n",
            "3                    SD   NaN  ...     SD            SD                   SD   \n",
            "4                    SD   NaN  ...     SD            SD                   SD   \n",
            "\n",
            "  longitud latitud participantes    victima contraparte gravedad tipo_de_dato  \n",
            "0       SD      SD       AUTO-SD       AUTO          SD       SD   definitivo  \n",
            "1       SD      SD       MOTO-SD       MOTO          SD       SD   definitivo  \n",
            "2       SD      SD  BICICLETA-SD  BICICLETA          SD       SD   definitivo  \n",
            "3       SD      SD       AUTO-SD       AUTO          SD       SD   definitivo  \n",
            "4       SD      SD     PEATON-SD     PEATON          SD       SD   definitivo  \n",
            "\n",
            "[5 rows x 23 columns]\n",
            "  Unnamed: 0  (mm)\n",
            "0 2019-01-01   2.0\n",
            "1 2019-01-02   9.0\n",
            "2 2019-01-03   0.0\n",
            "3 2019-01-04   0.0\n",
            "4 2019-01-05   1.0\n",
            "  Unnamed: 0  (°C) Unnamed: 2\n",
            "0 2019-01-01  32.7       23.4\n",
            "1 2019-01-02  32.1       23.7\n",
            "2 2019-01-03  26.3         17\n",
            "3 2019-01-04  28.9         18\n",
            "4 2019-01-05  30.1       21.2\n"
          ]
        }
      ]
    }
  ]
}